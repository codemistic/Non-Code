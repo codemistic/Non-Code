{
 "cells": [
  {
   "cell_type": "code",
   "execution_count": 39,
   "id": "04ab8416",
   "metadata": {},
   "outputs": [],
   "source": [
    "from sympy import *"
   ]
  },
  {
   "cell_type": "code",
   "execution_count": 40,
   "id": "0a78ee98",
   "metadata": {},
   "outputs": [],
   "source": [
    "#Solving a linear equation\n",
    "#Solving two linear equations with two unknowns \n",
    "#Quadratic equation\n",
    "#Limits in Calculus\n",
    "#Differentiate \n",
    "#Integral \n",
    " "
   ]
  },
  {
   "cell_type": "markdown",
   "id": "ae2dadd6",
   "metadata": {},
   "source": [
    "## Linear equation with one unknown\n"
   ]
  },
  {
   "cell_type": "code",
   "execution_count": 41,
   "id": "1acbd59c",
   "metadata": {},
   "outputs": [
    {
     "data": {
      "text/plain": [
       "[-1]"
      ]
     },
     "execution_count": 41,
     "metadata": {},
     "output_type": "execute_result"
    }
   ],
   "source": [
    "x = symbols(\"x\")\n",
    "solve(x-6+7)"
   ]
  },
  {
   "cell_type": "code",
   "execution_count": 42,
   "id": "849b4ad4",
   "metadata": {},
   "outputs": [
    {
     "data": {
      "text/plain": [
       "[4]"
      ]
     },
     "execution_count": 42,
     "metadata": {},
     "output_type": "execute_result"
    }
   ],
   "source": [
    "y=symbols(\"y\")\n",
    "solve(y+5-9)"
   ]
  },
  {
   "cell_type": "markdown",
   "id": "d7663acc",
   "metadata": {},
   "source": [
    "## Solving two linear equations with two unknowns "
   ]
  },
  {
   "cell_type": "code",
   "execution_count": 43,
   "id": "eaaf6d4d",
   "metadata": {},
   "outputs": [
    {
     "name": "stdout",
     "output_type": "stream",
     "text": [
      "{x: 6, y: 4}\n"
     ]
    }
   ],
   "source": [
    "x,y = symbols(\"x y\")\n",
    "eq1 = Eq(x+y-10,0)\n",
    "eq2 = Eq(x-y-2,0)\n",
    "ans = solve((eq1,eq2))\n",
    "print(ans)"
   ]
  },
  {
   "cell_type": "code",
   "execution_count": 44,
   "id": "88052414",
   "metadata": {},
   "outputs": [
    {
     "data": {
      "text/plain": [
       "dict"
      ]
     },
     "execution_count": 44,
     "metadata": {},
     "output_type": "execute_result"
    }
   ],
   "source": [
    "type(ans)"
   ]
  },
  {
   "cell_type": "code",
   "execution_count": 45,
   "id": "7e74b84d",
   "metadata": {},
   "outputs": [
    {
     "data": {
      "text/latex": [
       "$\\displaystyle 6$"
      ],
      "text/plain": [
       "6"
      ]
     },
     "execution_count": 45,
     "metadata": {},
     "output_type": "execute_result"
    }
   ],
   "source": [
    "ans[x]"
   ]
  },
  {
   "cell_type": "code",
   "execution_count": 46,
   "id": "9bf6d8f4",
   "metadata": {},
   "outputs": [
    {
     "data": {
      "text/latex": [
       "$\\displaystyle 4$"
      ],
      "text/plain": [
       "4"
      ]
     },
     "execution_count": 46,
     "metadata": {},
     "output_type": "execute_result"
    }
   ],
   "source": [
    "ans[y]"
   ]
  },
  {
   "cell_type": "markdown",
   "id": "31b1417b",
   "metadata": {},
   "source": [
    "## Quadratic equation"
   ]
  },
  {
   "cell_type": "code",
   "execution_count": 47,
   "id": "44c8daea",
   "metadata": {},
   "outputs": [
    {
     "data": {
      "text/plain": [
       "[-1]"
      ]
     },
     "execution_count": 47,
     "metadata": {},
     "output_type": "execute_result"
    }
   ],
   "source": [
    "x = symbols(\"X\")\n",
    "solve(x**2+2*x+1)"
   ]
  },
  {
   "cell_type": "code",
   "execution_count": 48,
   "id": "fcdf077a",
   "metadata": {},
   "outputs": [
    {
     "data": {
      "text/plain": [
       "[-3, -2]"
      ]
     },
     "execution_count": 48,
     "metadata": {},
     "output_type": "execute_result"
    }
   ],
   "source": [
    "solve((x**2+5*x+6))"
   ]
  },
  {
   "cell_type": "code",
   "execution_count": 49,
   "id": "65276767",
   "metadata": {},
   "outputs": [
    {
     "data": {
      "text/plain": [
       "[-5/3 - 7/(3*(-1/2 - sqrt(3)*I/2)*(3*sqrt(177) + 44)**(1/3)) - (-1/2 - sqrt(3)*I/2)*(3*sqrt(177) + 44)**(1/3)/3,\n",
       " -5/3 - (-1/2 + sqrt(3)*I/2)*(3*sqrt(177) + 44)**(1/3)/3 - 7/(3*(-1/2 + sqrt(3)*I/2)*(3*sqrt(177) + 44)**(1/3)),\n",
       " -5/3 - (3*sqrt(177) + 44)**(1/3)/3 - 7/(3*(3*sqrt(177) + 44)**(1/3))]"
      ]
     },
     "execution_count": 49,
     "metadata": {},
     "output_type": "execute_result"
    }
   ],
   "source": [
    "solve((x**3+5*(x**2)+6*x+4))"
   ]
  },
  {
   "cell_type": "markdown",
   "id": "50119fd6",
   "metadata": {},
   "source": [
    "## Limits in Calculus "
   ]
  },
  {
   "cell_type": "code",
   "execution_count": 50,
   "id": "23989a24",
   "metadata": {},
   "outputs": [],
   "source": [
    "x = symbols(\"x\")"
   ]
  },
  {
   "cell_type": "code",
   "execution_count": 51,
   "id": "652883d7",
   "metadata": {},
   "outputs": [],
   "source": [
    "#limit(f(x),x,0)"
   ]
  },
  {
   "cell_type": "code",
   "execution_count": 52,
   "id": "440fc4a1",
   "metadata": {},
   "outputs": [
    {
     "data": {
      "text/latex": [
       "$\\displaystyle 4$"
      ],
      "text/plain": [
       "4"
      ]
     },
     "execution_count": 52,
     "metadata": {},
     "output_type": "execute_result"
    }
   ],
   "source": [
    "limit(x**2,x,2) #lim x tends to 2 f(x)=x**2"
   ]
  },
  {
   "cell_type": "code",
   "execution_count": 53,
   "id": "dbc63294",
   "metadata": {},
   "outputs": [
    {
     "data": {
      "text/latex": [
       "$\\displaystyle 1$"
      ],
      "text/plain": [
       "1"
      ]
     },
     "execution_count": 53,
     "metadata": {},
     "output_type": "execute_result"
    }
   ],
   "source": [
    "limit((sin(x)/x),x,0)"
   ]
  },
  {
   "cell_type": "markdown",
   "id": "00ab6596",
   "metadata": {},
   "source": [
    "## Differentiate "
   ]
  },
  {
   "cell_type": "code",
   "execution_count": 61,
   "id": "94f35b15",
   "metadata": {},
   "outputs": [],
   "source": [
    "x,t = symbols(\"x t\")"
   ]
  },
  {
   "cell_type": "code",
   "execution_count": 62,
   "id": "5f4c9f61",
   "metadata": {},
   "outputs": [],
   "source": [
    "# diff(function,x)\n",
    "#differentiate sin(x) wrt x"
   ]
  },
  {
   "cell_type": "code",
   "execution_count": 63,
   "id": "fb8d9403",
   "metadata": {},
   "outputs": [
    {
     "data": {
      "text/latex": [
       "$\\displaystyle \\cos{\\left(x \\right)}$"
      ],
      "text/plain": [
       "cos(x)"
      ]
     },
     "execution_count": 63,
     "metadata": {},
     "output_type": "execute_result"
    }
   ],
   "source": [
    "diff(sin(x),x)"
   ]
  },
  {
   "cell_type": "code",
   "execution_count": 64,
   "id": "f2f986a0",
   "metadata": {},
   "outputs": [
    {
     "data": {
      "text/latex": [
       "$\\displaystyle 0$"
      ],
      "text/plain": [
       "0"
      ]
     },
     "execution_count": 64,
     "metadata": {},
     "output_type": "execute_result"
    }
   ],
   "source": [
    "diff(sin(x),t)"
   ]
  },
  {
   "cell_type": "code",
   "execution_count": 65,
   "id": "6a4de812",
   "metadata": {},
   "outputs": [
    {
     "data": {
      "text/latex": [
       "$\\displaystyle \\sin{\\left(x \\right)}$"
      ],
      "text/plain": [
       "sin(x)"
      ]
     },
     "execution_count": 65,
     "metadata": {},
     "output_type": "execute_result"
    }
   ],
   "source": [
    "diff(t*sin(x),t)"
   ]
  },
  {
   "cell_type": "code",
   "execution_count": 66,
   "id": "f76d4bf2",
   "metadata": {},
   "outputs": [
    {
     "data": {
      "text/latex": [
       "$\\displaystyle e^{x} - \\sin{\\left(x \\right)} + \\cos{\\left(x \\right)}$"
      ],
      "text/plain": [
       "exp(x) - sin(x) + cos(x)"
      ]
     },
     "execution_count": 66,
     "metadata": {},
     "output_type": "execute_result"
    }
   ],
   "source": [
    "diff(sin(x)+cos(x)+exp(x),x)"
   ]
  },
  {
   "cell_type": "markdown",
   "id": "b4c4c36b",
   "metadata": {},
   "source": [
    "## Integral "
   ]
  },
  {
   "cell_type": "code",
   "execution_count": 67,
   "id": "bc4ba50b",
   "metadata": {},
   "outputs": [],
   "source": [
    "x = symbols(\"x\")"
   ]
  },
  {
   "cell_type": "code",
   "execution_count": 68,
   "id": "2a0eb16c",
   "metadata": {},
   "outputs": [
    {
     "data": {
      "text/latex": [
       "$\\displaystyle \\frac{x^{3}}{3}$"
      ],
      "text/plain": [
       "x**3/3"
      ]
     },
     "execution_count": 68,
     "metadata": {},
     "output_type": "execute_result"
    }
   ],
   "source": [
    "integrate(x**2,x)"
   ]
  },
  {
   "cell_type": "code",
   "execution_count": 69,
   "id": "ae5371df",
   "metadata": {},
   "outputs": [
    {
     "data": {
      "text/latex": [
       "$\\displaystyle \\frac{875}{3}$"
      ],
      "text/plain": [
       "875/3"
      ]
     },
     "execution_count": 69,
     "metadata": {},
     "output_type": "execute_result"
    }
   ],
   "source": [
    "integrate(x**2,(x,5,10))"
   ]
  },
  {
   "cell_type": "code",
   "execution_count": null,
   "id": "3b0e0fa8",
   "metadata": {},
   "outputs": [],
   "source": []
  }
 ],
 "metadata": {
  "kernelspec": {
   "display_name": "Python 3 (ipykernel)",
   "language": "python",
   "name": "python3"
  },
  "language_info": {
   "codemirror_mode": {
    "name": "ipython",
    "version": 3
   },
   "file_extension": ".py",
   "mimetype": "text/x-python",
   "name": "python",
   "nbconvert_exporter": "python",
   "pygments_lexer": "ipython3",
   "version": "3.9.7"
  }
 },
 "nbformat": 4,
 "nbformat_minor": 5
}
