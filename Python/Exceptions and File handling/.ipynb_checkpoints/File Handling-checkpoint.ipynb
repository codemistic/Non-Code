{
 "cells": [
  {
   "cell_type": "markdown",
   "id": "26e3f319",
   "metadata": {},
   "source": [
    "## Reading a file"
   ]
  },
  {
   "cell_type": "code",
   "execution_count": 21,
   "id": "6b9fed42",
   "metadata": {},
   "outputs": [],
   "source": [
    "file = open(\"basketball.txt\",\"r\")"
   ]
  },
  {
   "cell_type": "code",
   "execution_count": 22,
   "id": "5c94cc3f",
   "metadata": {},
   "outputs": [],
   "source": [
    "#r - > reading, w -> writing , r+w"
   ]
  },
  {
   "cell_type": "code",
   "execution_count": 23,
   "id": "9269ef82",
   "metadata": {},
   "outputs": [
    {
     "data": {
      "text/plain": [
       "'Basketball is a team sport in '"
      ]
     },
     "execution_count": 23,
     "metadata": {},
     "output_type": "execute_result"
    }
   ],
   "source": [
    "file.read(30)"
   ]
  },
  {
   "cell_type": "code",
   "execution_count": 24,
   "id": "1c5a6e9e",
   "metadata": {},
   "outputs": [
    {
     "data": {
      "text/plain": [
       "'which two teams, mos'"
      ]
     },
     "execution_count": 24,
     "metadata": {},
     "output_type": "execute_result"
    }
   ],
   "source": [
    "file.read(20)"
   ]
  },
  {
   "cell_type": "code",
   "execution_count": 25,
   "id": "10138399",
   "metadata": {},
   "outputs": [
    {
     "data": {
      "text/plain": [
       "\"t commonly of five players each, opposing one another on a rectangular court, compete with the primary objective of shooting a basketball (approximately 9.4 inches (24 cm) in diameter) through the defender's hoop (a basket 18 inches (46 cm) in diameter mounted 10 feet (3.048 m) high to a backboard at each end of the court) while preventing the opposing team from shooting through their own hoop. A field goal is worth two points, unless made from behind the three-point line, when it is worth three. After a foul, timed play stops and the player fouled or designated to shoot a technical foul is given one, two or three one-point free throws. The team with the most points at the end of the game wins, but if regulation play expires with the score tied, an additional period of play (overtime) is mandated.\\n\\nPlayers advance the ball by bouncing it while walking or running (dribbling) or by passing it to a teammate, both of which require considerable skill. On offense, players may use a variety of shots – the layup, the jump shot, or a dunk; on defense, they may steal the ball from a dribbler, intercept passes, or block shots; either offense or defense may collect a rebound, that is, a missed shot that bounces from rim or backboard. It is a violation to lift or drag one's pivot foot without dribbling the ball, to carry it, or to hold the ball with both hands then resume dribbling.\\n\\nThe five players on each side fall into five playing positions. The tallest player is usually the center, the second-tallest and strongest is the power forward, a slightly shorter but more agile player is the small forward, and the shortest players or the best ball handlers are the shooting guard and the point guard, who implements the coach's game plan by managing the execution of offensive and defensive plays (player positioning). Informally, players may play three-on-three, two-on-two, and one-on-one.\""
      ]
     },
     "execution_count": 25,
     "metadata": {},
     "output_type": "execute_result"
    }
   ],
   "source": [
    "file.read()"
   ]
  },
  {
   "cell_type": "code",
   "execution_count": 26,
   "id": "c579c62c",
   "metadata": {},
   "outputs": [],
   "source": [
    "file.close()"
   ]
  },
  {
   "cell_type": "markdown",
   "id": "be033fec",
   "metadata": {},
   "source": [
    "## with statement"
   ]
  },
  {
   "cell_type": "code",
   "execution_count": 27,
   "id": "4b2ff5bd",
   "metadata": {},
   "outputs": [
    {
     "name": "stdout",
     "output_type": "stream",
     "text": [
      "Basketball is a team sport in which two teams, most commonly of five players each, opposing one another on a rectangular court, compete with the primary objective of shooting a basketball (approximately 9.4 inches (24 cm) in diameter) through the defender's hoop (a basket 18 inches (46 cm) in diameter mounted 10 feet (3.048 m) high to a backboard at each end of the court) while preventing the opposing team from shooting through their own hoop. A field goal is worth two points, unless made from behind the three-point line, when it is worth three. After a foul, timed play stops and the player fouled or designated to shoot a technical foul is given one, two or three one-point free throws. The team with the most points at the end of the game wins, but if regulation play expires with the score tied, an additional period of play (overtime) is mandated.\n",
      "\n"
     ]
    }
   ],
   "source": [
    "with open(\"basketball.txt\",\"r\") as file:\n",
    "    print(file.readline())"
   ]
  },
  {
   "cell_type": "code",
   "execution_count": 28,
   "id": "a1fe47a0",
   "metadata": {},
   "outputs": [
    {
     "ename": "ValueError",
     "evalue": "I/O operation on closed file.",
     "output_type": "error",
     "traceback": [
      "\u001b[0;31m---------------------------------------------------------------------------\u001b[0m",
      "\u001b[0;31mValueError\u001b[0m                                Traceback (most recent call last)",
      "\u001b[0;32m/tmp/ipykernel_5101/1407933502.py\u001b[0m in \u001b[0;36m<module>\u001b[0;34m\u001b[0m\n\u001b[0;32m----> 1\u001b[0;31m \u001b[0mfile\u001b[0m\u001b[0;34m.\u001b[0m\u001b[0mread\u001b[0m\u001b[0;34m(\u001b[0m\u001b[0;34m)\u001b[0m\u001b[0;34m\u001b[0m\u001b[0;34m\u001b[0m\u001b[0m\n\u001b[0m",
      "\u001b[0;31mValueError\u001b[0m: I/O operation on closed file."
     ]
    }
   ],
   "source": [
    "file.read()"
   ]
  },
  {
   "cell_type": "markdown",
   "id": "1bb2b2b1",
   "metadata": {},
   "source": [
    "## Writing a file "
   ]
  },
  {
   "cell_type": "code",
   "execution_count": 37,
   "id": "bcf97b3f",
   "metadata": {},
   "outputs": [],
   "source": [
    "with open(\"mat.txt\",\"w\") as file:\n",
    "    file.write(\"Hello everyone! This is a test for writing\")"
   ]
  },
  {
   "cell_type": "code",
   "execution_count": 38,
   "id": "d6a6b65a",
   "metadata": {},
   "outputs": [
    {
     "data": {
      "text/plain": [
       "'Hello everyone! This is a test for writing'"
      ]
     },
     "execution_count": 38,
     "metadata": {},
     "output_type": "execute_result"
    }
   ],
   "source": [
    "file1 = open(\"mat.txt\",\"r\")\n",
    "file1.read()"
   ]
  },
  {
   "cell_type": "code",
   "execution_count": 39,
   "id": "f47ca5a2",
   "metadata": {},
   "outputs": [],
   "source": [
    "with open(\"mat.txt\",\"w\") as file:\n",
    "    lines = [\"heloo guys \"]\n",
    "    file.writelines(lines)"
   ]
  },
  {
   "cell_type": "code",
   "execution_count": 40,
   "id": "cd67095a",
   "metadata": {},
   "outputs": [],
   "source": [
    "file1 = open(\"mat.txt\",\"r\")"
   ]
  },
  {
   "cell_type": "code",
   "execution_count": 41,
   "id": "09333e47",
   "metadata": {},
   "outputs": [
    {
     "data": {
      "text/plain": [
       "'heloo guys\\n '"
      ]
     },
     "execution_count": 41,
     "metadata": {},
     "output_type": "execute_result"
    }
   ],
   "source": [
    "file1.read()"
   ]
  },
  {
   "cell_type": "markdown",
   "id": "9d130076",
   "metadata": {},
   "source": [
    "## CSV handling"
   ]
  },
  {
   "cell_type": "code",
   "execution_count": 43,
   "id": "a631e255",
   "metadata": {},
   "outputs": [],
   "source": [
    "import csv"
   ]
  },
  {
   "cell_type": "code",
   "execution_count": 44,
   "id": "39fea6e0",
   "metadata": {},
   "outputs": [],
   "source": [
    "with open(\"data.csv\",\"w\") as file:\n",
    "    #file - > data.csv\n",
    "    write_obj = csv.writer(file)\n",
    "    write_obj.writerow([\"Name\",\"Age\",\"Contact no\"])\n",
    "    write_obj.writerow([\"Riya\",\"18\",\"7986458039\"])\n",
    "    write_obj.writerow([\"Rohan\",\"14\",\"7988573039\"])"
   ]
  },
  {
   "cell_type": "code",
   "execution_count": 45,
   "id": "ca9bd485",
   "metadata": {},
   "outputs": [
    {
     "name": "stdout",
     "output_type": "stream",
     "text": [
      "['Name', 'Age', 'Contact no']\n",
      "['Riya', '18', '7986458039']\n",
      "['Rohan', '14', '7988573039']\n"
     ]
    }
   ],
   "source": [
    "with open(\"data.csv\",\"r\") as file:\n",
    "    #file - > data.csv\n",
    "    read_obj = csv.reader(file)\n",
    "    for i in read_obj:\n",
    "        print(i)"
   ]
  },
  {
   "cell_type": "code",
   "execution_count": null,
   "id": "a64b3930",
   "metadata": {},
   "outputs": [],
   "source": []
  }
 ],
 "metadata": {
  "kernelspec": {
   "display_name": "Python 3 (ipykernel)",
   "language": "python",
   "name": "python3"
  },
  "language_info": {
   "codemirror_mode": {
    "name": "ipython",
    "version": 3
   },
   "file_extension": ".py",
   "mimetype": "text/x-python",
   "name": "python",
   "nbconvert_exporter": "python",
   "pygments_lexer": "ipython3",
   "version": "3.9.7"
  }
 },
 "nbformat": 4,
 "nbformat_minor": 5
}
