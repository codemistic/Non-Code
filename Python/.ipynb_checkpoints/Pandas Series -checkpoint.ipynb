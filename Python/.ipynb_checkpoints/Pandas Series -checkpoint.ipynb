{
 "cells": [
  {
   "cell_type": "code",
   "execution_count": 1,
   "id": "75c35dcc",
   "metadata": {},
   "outputs": [],
   "source": [
    "# Pandas - > Series, DataFrame, Panel\n",
    "## Series -> One dimensional labeled array \n",
    " \n"
   ]
  },
  {
   "cell_type": "code",
   "execution_count": 2,
   "id": "0e8c6c94",
   "metadata": {},
   "outputs": [],
   "source": [
    "import pandas as pd"
   ]
  },
  {
   "cell_type": "code",
   "execution_count": 3,
   "id": "0dd8196d",
   "metadata": {},
   "outputs": [],
   "source": [
    "#numpy array, dict, scalar value or constant "
   ]
  },
  {
   "cell_type": "markdown",
   "id": "00b165a4",
   "metadata": {},
   "source": [
    "### Array\n"
   ]
  },
  {
   "cell_type": "code",
   "execution_count": 6,
   "id": "c3d2e071",
   "metadata": {},
   "outputs": [],
   "source": [
    "import numpy as np\n",
    "x =np.array([\"a\",\"b\",\"c\",\"d\"],dtype='<U1')"
   ]
  },
  {
   "cell_type": "code",
   "execution_count": 7,
   "id": "3f1700be",
   "metadata": {},
   "outputs": [
    {
     "data": {
      "text/plain": [
       "array(['a', 'b', 'c', 'd'], dtype='<U1')"
      ]
     },
     "execution_count": 7,
     "metadata": {},
     "output_type": "execute_result"
    }
   ],
   "source": [
    "x"
   ]
  },
  {
   "cell_type": "code",
   "execution_count": 8,
   "id": "f3fbe807",
   "metadata": {},
   "outputs": [
    {
     "data": {
      "text/plain": [
       "numpy.ndarray"
      ]
     },
     "execution_count": 8,
     "metadata": {},
     "output_type": "execute_result"
    }
   ],
   "source": [
    "type(x)"
   ]
  },
  {
   "cell_type": "code",
   "execution_count": 10,
   "id": "8b717ba4",
   "metadata": {},
   "outputs": [],
   "source": [
    "ser=pd.Series(x)"
   ]
  },
  {
   "cell_type": "code",
   "execution_count": 11,
   "id": "ddfd3740",
   "metadata": {},
   "outputs": [
    {
     "data": {
      "text/plain": [
       "0    a\n",
       "1    b\n",
       "2    c\n",
       "3    d\n",
       "dtype: object"
      ]
     },
     "execution_count": 11,
     "metadata": {},
     "output_type": "execute_result"
    }
   ],
   "source": [
    "ser"
   ]
  },
  {
   "cell_type": "code",
   "execution_count": 30,
   "id": "8c44ca77",
   "metadata": {},
   "outputs": [],
   "source": [
    "series = pd.Series(x,index=[200,201,202,103],dtype=str,name=\"Alphabet\")"
   ]
  },
  {
   "cell_type": "code",
   "execution_count": 31,
   "id": "73d20d62",
   "metadata": {},
   "outputs": [
    {
     "data": {
      "text/plain": [
       "200    a\n",
       "201    b\n",
       "202    c\n",
       "103    d\n",
       "Name: Alphabet, dtype: object"
      ]
     },
     "execution_count": 31,
     "metadata": {},
     "output_type": "execute_result"
    }
   ],
   "source": [
    "series"
   ]
  },
  {
   "cell_type": "markdown",
   "id": "5a2e603a",
   "metadata": {},
   "source": [
    "### Dict"
   ]
  },
  {
   "cell_type": "code",
   "execution_count": 17,
   "id": "6f1f81dc",
   "metadata": {},
   "outputs": [],
   "source": [
    "y={1:1,2:4,3:9,4:16}"
   ]
  },
  {
   "cell_type": "code",
   "execution_count": 18,
   "id": "5ce8290a",
   "metadata": {},
   "outputs": [
    {
     "data": {
      "text/plain": [
       "{1: 1, 2: 4, 3: 9, 4: 16}"
      ]
     },
     "execution_count": 18,
     "metadata": {},
     "output_type": "execute_result"
    }
   ],
   "source": [
    "y"
   ]
  },
  {
   "cell_type": "code",
   "execution_count": 19,
   "id": "39f65f37",
   "metadata": {},
   "outputs": [
    {
     "data": {
      "text/plain": [
       "1     1\n",
       "2     4\n",
       "3     9\n",
       "4    16\n",
       "dtype: int64"
      ]
     },
     "execution_count": 19,
     "metadata": {},
     "output_type": "execute_result"
    }
   ],
   "source": [
    "pd.Series(y)#predefined key... so cannot pass index "
   ]
  },
  {
   "cell_type": "code",
   "execution_count": 20,
   "id": "ab7a99bc",
   "metadata": {},
   "outputs": [
    {
     "data": {
      "text/plain": [
       "100   NaN\n",
       "200   NaN\n",
       "300   NaN\n",
       "400   NaN\n",
       "dtype: float64"
      ]
     },
     "execution_count": 20,
     "metadata": {},
     "output_type": "execute_result"
    }
   ],
   "source": [
    "pd.Series(y,index=[100,200,300,400])"
   ]
  },
  {
   "cell_type": "code",
   "execution_count": 21,
   "id": "8b78f416",
   "metadata": {},
   "outputs": [],
   "source": [
    "y[10]=100"
   ]
  },
  {
   "cell_type": "code",
   "execution_count": 23,
   "id": "f22e2dc4",
   "metadata": {},
   "outputs": [
    {
     "data": {
      "text/plain": [
       "10     100.0\n",
       "101      NaN\n",
       "3        9.0\n",
       "dtype: float64"
      ]
     },
     "execution_count": 23,
     "metadata": {},
     "output_type": "execute_result"
    }
   ],
   "source": [
    "pd.Series(y,index=[10,101,3])\n",
    "#returns for values in the key "
   ]
  },
  {
   "cell_type": "code",
   "execution_count": 24,
   "id": "f2fefec3",
   "metadata": {},
   "outputs": [
    {
     "data": {
      "text/plain": [
       "{1: 1, 2: 4, 3: 9, 4: 16, 10: 100}"
      ]
     },
     "execution_count": 24,
     "metadata": {},
     "output_type": "execute_result"
    }
   ],
   "source": [
    "y"
   ]
  },
  {
   "cell_type": "markdown",
   "id": "f98113f6",
   "metadata": {},
   "source": [
    "### Scalar"
   ]
  },
  {
   "cell_type": "code",
   "execution_count": 25,
   "id": "ad34423b",
   "metadata": {},
   "outputs": [
    {
     "data": {
      "text/plain": [
       "200    125\n",
       "300    125\n",
       "400    125\n",
       "dtype: int64"
      ]
     },
     "execution_count": 25,
     "metadata": {},
     "output_type": "execute_result"
    }
   ],
   "source": [
    "pd.Series(125,index=[200,300,400])#definetly pass the index value"
   ]
  },
  {
   "cell_type": "markdown",
   "id": "714c5288",
   "metadata": {},
   "source": [
    "## Retrieving data "
   ]
  },
  {
   "cell_type": "code",
   "execution_count": 28,
   "id": "773a429a",
   "metadata": {},
   "outputs": [
    {
     "data": {
      "text/plain": [
       "0    a\n",
       "1    b\n",
       "2    c\n",
       "3    d\n",
       "dtype: object"
      ]
     },
     "execution_count": 28,
     "metadata": {},
     "output_type": "execute_result"
    }
   ],
   "source": [
    "ser\n"
   ]
  },
  {
   "cell_type": "code",
   "execution_count": 32,
   "id": "a101be3c",
   "metadata": {},
   "outputs": [
    {
     "data": {
      "text/plain": [
       "200    a\n",
       "201    b\n",
       "202    c\n",
       "103    d\n",
       "Name: Alphabet, dtype: object"
      ]
     },
     "execution_count": 32,
     "metadata": {},
     "output_type": "execute_result"
    }
   ],
   "source": [
    "series\n"
   ]
  },
  {
   "cell_type": "code",
   "execution_count": 33,
   "id": "5bbae36d",
   "metadata": {},
   "outputs": [
    {
     "data": {
      "text/plain": [
       "'a'"
      ]
     },
     "execution_count": 33,
     "metadata": {},
     "output_type": "execute_result"
    }
   ],
   "source": [
    "series[200]"
   ]
  }
 ],
 "metadata": {
  "kernelspec": {
   "display_name": "Python 3 (ipykernel)",
   "language": "python",
   "name": "python3"
  },
  "language_info": {
   "codemirror_mode": {
    "name": "ipython",
    "version": 3
   },
   "file_extension": ".py",
   "mimetype": "text/x-python",
   "name": "python",
   "nbconvert_exporter": "python",
   "pygments_lexer": "ipython3",
   "version": "3.9.7"
  }
 },
 "nbformat": 4,
 "nbformat_minor": 5
}
